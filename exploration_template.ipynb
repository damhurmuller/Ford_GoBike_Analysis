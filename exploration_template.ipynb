{
 "cells": [
  {
   "cell_type": "markdown",
   "metadata": {},
   "source": [
    "# Ford GoBike System Data\n",
    "## by Mário Damhur\n",
    "\n",
    "## Preliminary Wrangling\n",
    "\n",
    "- This data set includes information about individual trips made in a bike-sharing system covering the greater San Francisco Bay area."
   ]
  },
  {
   "cell_type": "code",
   "execution_count": 1,
   "metadata": {},
   "outputs": [],
   "source": [
    "# import all packages and set plots to be embedded inline\n",
    "import numpy as np\n",
    "import pandas as pd\n",
    "import matplotlib.pyplot as plt\n",
    "import requests\n",
    "import seaborn as sb\n",
    "from io import BytesIO\n",
    "from zipfile import ZipFile\n",
    "import os\n",
    "\n",
    "%matplotlib inline\n",
    "\n",
    "plt.rcParams[\"figure.figsize\"] = (10,8)\n",
    "SMALL_SIZE = 12\n",
    "MEDIUM_SIZE = 16\n",
    "BIGGER_SIZE = 18\n",
    "\n",
    "plt.rc('font', size=SMALL_SIZE)          # controls default text sizes\n",
    "plt.rc('axes', titlesize=BIGGER_SIZE)     # fontsize of the axes title\n",
    "plt.rc('axes', labelsize=MEDIUM_SIZE)    # fontsize of the x and y labels\n",
    "plt.rc('xtick', labelsize=SMALL_SIZE)    # fontsize of the tick labels\n",
    "plt.rc('ytick', labelsize=SMALL_SIZE)    # fontsize of the tick labels\n",
    "plt.rc('legend', fontsize=SMALL_SIZE)    # legend fontsize"
   ]
  },
  {
   "cell_type": "markdown",
   "metadata": {},
   "source": [
    "# Gather"
   ]
  },
  {
   "cell_type": "code",
   "execution_count": 2,
   "metadata": {},
   "outputs": [],
   "source": [
    "# Create directory for the dataset\n",
    "directory = 'ford-gobike-dataset'\n",
    "\n",
    "if not os.path.exists(directory):\n",
    "    os.makedirs(directory)"
   ]
  },
  {
   "cell_type": "code",
   "execution_count": 3,
   "metadata": {},
   "outputs": [],
   "source": [
    "# Donwload all the data files and unzip the them\n",
    "urls = ['https://s3.amazonaws.com/fordgobike-data/201801-fordgobike-tripdata.csv.zip',\n",
    "        'https://s3.amazonaws.com/fordgobike-data/201802-fordgobike-tripdata.csv.zip',\n",
    "        'https://s3.amazonaws.com/fordgobike-data/201803-fordgobike-tripdata.csv.zip',\n",
    "        'https://s3.amazonaws.com/fordgobike-data/201804-fordgobike-tripdata.csv.zip',\n",
    "        'https://s3.amazonaws.com/fordgobike-data/201805-fordgobike-tripdata.csv.zip',\n",
    "        'https://s3.amazonaws.com/fordgobike-data/201806-fordgobike-tripdata.csv.zip',\n",
    "        'https://s3.amazonaws.com/fordgobike-data/201807-fordgobike-tripdata.csv.zip',\n",
    "        'https://s3.amazonaws.com/fordgobike-data/201808-fordgobike-tripdata.csv.zip',\n",
    "        'https://s3.amazonaws.com/fordgobike-data/201809-fordgobike-tripdata.csv.zip',\n",
    "        'https://s3.amazonaws.com/fordgobike-data/201810-fordgobike-tripdata.csv.zip',\n",
    "        'https://s3.amazonaws.com/fordgobike-data/201811-fordgobike-tripdata.csv.zip',\n",
    "        'https://s3.amazonaws.com/fordgobike-data/201812-fordgobike-tripdata.csv.zip',\n",
    "        'https://s3.amazonaws.com/fordgobike-data/201901-fordgobike-tripdata.csv.zip',\n",
    "        'https://s3.amazonaws.com/fordgobike-data/201902-fordgobike-tripdata.csv.zip',\n",
    "        'https://s3.amazonaws.com/fordgobike-data/201903-fordgobike-tripdata.csv.zip']\n",
    "\n",
    "for url in urls:\n",
    "    response = requests.get(url)\n",
    "    zip_file = ZipFile(BytesIO(response.content))\n",
    "    zip_file.extractall(directory)"
   ]
  },
  {
   "cell_type": "code",
   "execution_count": 4,
   "metadata": {},
   "outputs": [
    {
     "name": "stdout",
     "output_type": "stream",
     "text": [
      "Append file: 201801-fordgobike-tripdata.csv\n",
      "Append file: 201802-fordgobike-tripdata.csv\n",
      "Append file: 201803-fordgobike-tripdata.csv\n",
      "Append file: 201804-fordgobike-tripdata.csv\n",
      "Append file: 201805-fordgobike-tripdata.csv\n",
      "Append file: 201806-fordgobike-tripdata.csv\n",
      "Append file: 201807-fordgobike-tripdata.csv\n",
      "Append file: 201808-fordgobike-tripdata.csv\n",
      "Append file: 201809-fordgobike-tripdata.csv\n",
      "Append file: 201810-fordgobike-tripdata.csv\n",
      "Append file: 201811-fordgobike-tripdata.csv\n",
      "Append file: 201812-fordgobike-tripdata.csv\n",
      "Append file: 201901-fordgobike-tripdata.csv\n",
      "Append file: 201902-fordgobike-tripdata.csv\n",
      "Append file: 201903-fordgobike-tripdata.csv\n"
     ]
    }
   ],
   "source": [
    "# Read all files except one and append into a list\n",
    "list_dfs = []\n",
    "\n",
    "for file in sorted(os.listdir(directory)):\n",
    "    print('Append file:', file)\n",
    "    list_dfs.append(pd.read_csv(directory + '/' + file))"
   ]
  },
  {
   "cell_type": "code",
   "execution_count": 5,
   "metadata": {},
   "outputs": [
    {
     "name": "stdout",
     "output_type": "stream",
     "text": [
      "Shape df: (2495514, 16)\n"
     ]
    }
   ],
   "source": [
    "# Concatenate all files into a single dataframe\n",
    "df = pd.concat(list_dfs, sort=False)\n",
    "print('Shape df:', df.shape)"
   ]
  },
  {
   "cell_type": "code",
   "execution_count": 6,
   "metadata": {},
   "outputs": [],
   "source": [
    "# Saving the combined dataframe into a new file to work with\n",
    "df.to_csv(\"ford-gobike-dataset/bikes_dataset_combined.csv\", index = False)"
   ]
  },
  {
   "cell_type": "markdown",
   "metadata": {},
   "source": [
    "# Assess"
   ]
  },
  {
   "cell_type": "markdown",
   "metadata": {},
   "source": [
    "## Visual Assessment"
   ]
  },
  {
   "cell_type": "code",
   "execution_count": 7,
   "metadata": {},
   "outputs": [
    {
     "name": "stdout",
     "output_type": "stream",
     "text": [
      "(2495514, 16)\n"
     ]
    }
   ],
   "source": [
    "bikes_df = pd.read_csv('ford-gobike-dataset/bikes_dataset_combined.csv')\n",
    "print(bikes_df.shape)"
   ]
  },
  {
   "cell_type": "code",
   "execution_count": 8,
   "metadata": {},
   "outputs": [
    {
     "data": {
      "text/html": [
       "<div>\n",
       "<style scoped>\n",
       "    .dataframe tbody tr th:only-of-type {\n",
       "        vertical-align: middle;\n",
       "    }\n",
       "\n",
       "    .dataframe tbody tr th {\n",
       "        vertical-align: top;\n",
       "    }\n",
       "\n",
       "    .dataframe thead th {\n",
       "        text-align: right;\n",
       "    }\n",
       "</style>\n",
       "<table border=\"1\" class=\"dataframe\">\n",
       "  <thead>\n",
       "    <tr style=\"text-align: right;\">\n",
       "      <th></th>\n",
       "      <th>duration_sec</th>\n",
       "      <th>start_time</th>\n",
       "      <th>end_time</th>\n",
       "      <th>start_station_id</th>\n",
       "      <th>start_station_name</th>\n",
       "      <th>start_station_latitude</th>\n",
       "      <th>start_station_longitude</th>\n",
       "      <th>end_station_id</th>\n",
       "      <th>end_station_name</th>\n",
       "      <th>end_station_latitude</th>\n",
       "      <th>end_station_longitude</th>\n",
       "      <th>bike_id</th>\n",
       "      <th>user_type</th>\n",
       "      <th>member_birth_year</th>\n",
       "      <th>member_gender</th>\n",
       "      <th>bike_share_for_all_trip</th>\n",
       "    </tr>\n",
       "  </thead>\n",
       "  <tbody>\n",
       "    <tr>\n",
       "      <th>0</th>\n",
       "      <td>75284</td>\n",
       "      <td>2018-01-31 22:52:35.2390</td>\n",
       "      <td>2018-02-01 19:47:19.8240</td>\n",
       "      <td>120.0</td>\n",
       "      <td>Mission Dolores Park</td>\n",
       "      <td>37.761420</td>\n",
       "      <td>-122.426435</td>\n",
       "      <td>285.0</td>\n",
       "      <td>Webster St at O'Farrell St</td>\n",
       "      <td>37.783521</td>\n",
       "      <td>-122.431158</td>\n",
       "      <td>2765</td>\n",
       "      <td>Subscriber</td>\n",
       "      <td>1986.0</td>\n",
       "      <td>Male</td>\n",
       "      <td>No</td>\n",
       "    </tr>\n",
       "    <tr>\n",
       "      <th>1</th>\n",
       "      <td>85422</td>\n",
       "      <td>2018-01-31 16:13:34.3510</td>\n",
       "      <td>2018-02-01 15:57:17.3100</td>\n",
       "      <td>15.0</td>\n",
       "      <td>San Francisco Ferry Building (Harry Bridges Pl...</td>\n",
       "      <td>37.795392</td>\n",
       "      <td>-122.394203</td>\n",
       "      <td>15.0</td>\n",
       "      <td>San Francisco Ferry Building (Harry Bridges Pl...</td>\n",
       "      <td>37.795392</td>\n",
       "      <td>-122.394203</td>\n",
       "      <td>2815</td>\n",
       "      <td>Customer</td>\n",
       "      <td>NaN</td>\n",
       "      <td>NaN</td>\n",
       "      <td>No</td>\n",
       "    </tr>\n",
       "    <tr>\n",
       "      <th>2</th>\n",
       "      <td>71576</td>\n",
       "      <td>2018-01-31 14:23:55.8890</td>\n",
       "      <td>2018-02-01 10:16:52.1160</td>\n",
       "      <td>304.0</td>\n",
       "      <td>Jackson St at 5th St</td>\n",
       "      <td>37.348759</td>\n",
       "      <td>-121.894798</td>\n",
       "      <td>296.0</td>\n",
       "      <td>5th St at Virginia St</td>\n",
       "      <td>37.325998</td>\n",
       "      <td>-121.877120</td>\n",
       "      <td>3039</td>\n",
       "      <td>Customer</td>\n",
       "      <td>1996.0</td>\n",
       "      <td>Male</td>\n",
       "      <td>No</td>\n",
       "    </tr>\n",
       "    <tr>\n",
       "      <th>3</th>\n",
       "      <td>61076</td>\n",
       "      <td>2018-01-31 14:53:23.5620</td>\n",
       "      <td>2018-02-01 07:51:20.5000</td>\n",
       "      <td>75.0</td>\n",
       "      <td>Market St at Franklin St</td>\n",
       "      <td>37.773793</td>\n",
       "      <td>-122.421239</td>\n",
       "      <td>47.0</td>\n",
       "      <td>4th St at Harrison St</td>\n",
       "      <td>37.780955</td>\n",
       "      <td>-122.399749</td>\n",
       "      <td>321</td>\n",
       "      <td>Customer</td>\n",
       "      <td>NaN</td>\n",
       "      <td>NaN</td>\n",
       "      <td>No</td>\n",
       "    </tr>\n",
       "    <tr>\n",
       "      <th>4</th>\n",
       "      <td>39966</td>\n",
       "      <td>2018-01-31 19:52:24.6670</td>\n",
       "      <td>2018-02-01 06:58:31.0530</td>\n",
       "      <td>74.0</td>\n",
       "      <td>Laguna St at Hayes St</td>\n",
       "      <td>37.776435</td>\n",
       "      <td>-122.426244</td>\n",
       "      <td>19.0</td>\n",
       "      <td>Post St at Kearny St</td>\n",
       "      <td>37.788975</td>\n",
       "      <td>-122.403452</td>\n",
       "      <td>617</td>\n",
       "      <td>Subscriber</td>\n",
       "      <td>1991.0</td>\n",
       "      <td>Male</td>\n",
       "      <td>No</td>\n",
       "    </tr>\n",
       "    <tr>\n",
       "      <th>...</th>\n",
       "      <td>...</td>\n",
       "      <td>...</td>\n",
       "      <td>...</td>\n",
       "      <td>...</td>\n",
       "      <td>...</td>\n",
       "      <td>...</td>\n",
       "      <td>...</td>\n",
       "      <td>...</td>\n",
       "      <td>...</td>\n",
       "      <td>...</td>\n",
       "      <td>...</td>\n",
       "      <td>...</td>\n",
       "      <td>...</td>\n",
       "      <td>...</td>\n",
       "      <td>...</td>\n",
       "      <td>...</td>\n",
       "    </tr>\n",
       "    <tr>\n",
       "      <th>2495509</th>\n",
       "      <td>451</td>\n",
       "      <td>2019-03-01 00:06:16.6170</td>\n",
       "      <td>2019-03-01 00:13:47.9220</td>\n",
       "      <td>78.0</td>\n",
       "      <td>Folsom St at 9th St</td>\n",
       "      <td>37.773717</td>\n",
       "      <td>-122.411647</td>\n",
       "      <td>136.0</td>\n",
       "      <td>23rd St at San Bruno Ave</td>\n",
       "      <td>37.754436</td>\n",
       "      <td>-122.404364</td>\n",
       "      <td>5410</td>\n",
       "      <td>Subscriber</td>\n",
       "      <td>1992.0</td>\n",
       "      <td>Male</td>\n",
       "      <td>No</td>\n",
       "    </tr>\n",
       "    <tr>\n",
       "      <th>2495510</th>\n",
       "      <td>390</td>\n",
       "      <td>2019-03-01 00:05:19.7830</td>\n",
       "      <td>2019-03-01 00:11:50.7710</td>\n",
       "      <td>75.0</td>\n",
       "      <td>Market St at Franklin St</td>\n",
       "      <td>37.773793</td>\n",
       "      <td>-122.421239</td>\n",
       "      <td>78.0</td>\n",
       "      <td>Folsom St at 9th St</td>\n",
       "      <td>37.773717</td>\n",
       "      <td>-122.411647</td>\n",
       "      <td>6286</td>\n",
       "      <td>Subscriber</td>\n",
       "      <td>1974.0</td>\n",
       "      <td>Male</td>\n",
       "      <td>Yes</td>\n",
       "    </tr>\n",
       "    <tr>\n",
       "      <th>2495511</th>\n",
       "      <td>231</td>\n",
       "      <td>2019-03-01 00:04:06.7990</td>\n",
       "      <td>2019-03-01 00:07:58.3140</td>\n",
       "      <td>317.0</td>\n",
       "      <td>San Salvador St at 9th St</td>\n",
       "      <td>37.333955</td>\n",
       "      <td>-121.877349</td>\n",
       "      <td>310.0</td>\n",
       "      <td>San Fernando St at 4th St</td>\n",
       "      <td>37.335885</td>\n",
       "      <td>-121.885660</td>\n",
       "      <td>6198</td>\n",
       "      <td>Subscriber</td>\n",
       "      <td>1994.0</td>\n",
       "      <td>Male</td>\n",
       "      <td>Yes</td>\n",
       "    </tr>\n",
       "    <tr>\n",
       "      <th>2495512</th>\n",
       "      <td>257</td>\n",
       "      <td>2019-03-01 00:00:20.6750</td>\n",
       "      <td>2019-03-01 00:04:38.0380</td>\n",
       "      <td>235.0</td>\n",
       "      <td>Union St at 10th St</td>\n",
       "      <td>37.807239</td>\n",
       "      <td>-122.289370</td>\n",
       "      <td>160.0</td>\n",
       "      <td>West Oakland BART Station</td>\n",
       "      <td>37.805318</td>\n",
       "      <td>-122.294837</td>\n",
       "      <td>5096</td>\n",
       "      <td>Subscriber</td>\n",
       "      <td>1990.0</td>\n",
       "      <td>Other</td>\n",
       "      <td>Yes</td>\n",
       "    </tr>\n",
       "    <tr>\n",
       "      <th>2495513</th>\n",
       "      <td>149</td>\n",
       "      <td>2019-03-01 00:01:02.3270</td>\n",
       "      <td>2019-03-01 00:03:31.9920</td>\n",
       "      <td>180.0</td>\n",
       "      <td>Telegraph Ave at 23rd St</td>\n",
       "      <td>37.812678</td>\n",
       "      <td>-122.268773</td>\n",
       "      <td>220.0</td>\n",
       "      <td>San Pablo Ave at MLK Jr Way</td>\n",
       "      <td>37.811351</td>\n",
       "      <td>-122.273422</td>\n",
       "      <td>4485</td>\n",
       "      <td>Subscriber</td>\n",
       "      <td>1983.0</td>\n",
       "      <td>Male</td>\n",
       "      <td>No</td>\n",
       "    </tr>\n",
       "  </tbody>\n",
       "</table>\n",
       "<p>2495514 rows × 16 columns</p>\n",
       "</div>"
      ],
      "text/plain": [
       "         duration_sec                start_time                  end_time  \\\n",
       "0               75284  2018-01-31 22:52:35.2390  2018-02-01 19:47:19.8240   \n",
       "1               85422  2018-01-31 16:13:34.3510  2018-02-01 15:57:17.3100   \n",
       "2               71576  2018-01-31 14:23:55.8890  2018-02-01 10:16:52.1160   \n",
       "3               61076  2018-01-31 14:53:23.5620  2018-02-01 07:51:20.5000   \n",
       "4               39966  2018-01-31 19:52:24.6670  2018-02-01 06:58:31.0530   \n",
       "...               ...                       ...                       ...   \n",
       "2495509           451  2019-03-01 00:06:16.6170  2019-03-01 00:13:47.9220   \n",
       "2495510           390  2019-03-01 00:05:19.7830  2019-03-01 00:11:50.7710   \n",
       "2495511           231  2019-03-01 00:04:06.7990  2019-03-01 00:07:58.3140   \n",
       "2495512           257  2019-03-01 00:00:20.6750  2019-03-01 00:04:38.0380   \n",
       "2495513           149  2019-03-01 00:01:02.3270  2019-03-01 00:03:31.9920   \n",
       "\n",
       "         start_station_id                                 start_station_name  \\\n",
       "0                   120.0                               Mission Dolores Park   \n",
       "1                    15.0  San Francisco Ferry Building (Harry Bridges Pl...   \n",
       "2                   304.0                               Jackson St at 5th St   \n",
       "3                    75.0                           Market St at Franklin St   \n",
       "4                    74.0                              Laguna St at Hayes St   \n",
       "...                   ...                                                ...   \n",
       "2495509              78.0                                Folsom St at 9th St   \n",
       "2495510              75.0                           Market St at Franklin St   \n",
       "2495511             317.0                          San Salvador St at 9th St   \n",
       "2495512             235.0                                Union St at 10th St   \n",
       "2495513             180.0                           Telegraph Ave at 23rd St   \n",
       "\n",
       "         start_station_latitude  start_station_longitude  end_station_id  \\\n",
       "0                     37.761420              -122.426435           285.0   \n",
       "1                     37.795392              -122.394203            15.0   \n",
       "2                     37.348759              -121.894798           296.0   \n",
       "3                     37.773793              -122.421239            47.0   \n",
       "4                     37.776435              -122.426244            19.0   \n",
       "...                         ...                      ...             ...   \n",
       "2495509               37.773717              -122.411647           136.0   \n",
       "2495510               37.773793              -122.421239            78.0   \n",
       "2495511               37.333955              -121.877349           310.0   \n",
       "2495512               37.807239              -122.289370           160.0   \n",
       "2495513               37.812678              -122.268773           220.0   \n",
       "\n",
       "                                          end_station_name  \\\n",
       "0                               Webster St at O'Farrell St   \n",
       "1        San Francisco Ferry Building (Harry Bridges Pl...   \n",
       "2                                    5th St at Virginia St   \n",
       "3                                    4th St at Harrison St   \n",
       "4                                     Post St at Kearny St   \n",
       "...                                                    ...   \n",
       "2495509                           23rd St at San Bruno Ave   \n",
       "2495510                                Folsom St at 9th St   \n",
       "2495511                          San Fernando St at 4th St   \n",
       "2495512                          West Oakland BART Station   \n",
       "2495513                        San Pablo Ave at MLK Jr Way   \n",
       "\n",
       "         end_station_latitude  end_station_longitude  bike_id   user_type  \\\n",
       "0                   37.783521            -122.431158     2765  Subscriber   \n",
       "1                   37.795392            -122.394203     2815    Customer   \n",
       "2                   37.325998            -121.877120     3039    Customer   \n",
       "3                   37.780955            -122.399749      321    Customer   \n",
       "4                   37.788975            -122.403452      617  Subscriber   \n",
       "...                       ...                    ...      ...         ...   \n",
       "2495509             37.754436            -122.404364     5410  Subscriber   \n",
       "2495510             37.773717            -122.411647     6286  Subscriber   \n",
       "2495511             37.335885            -121.885660     6198  Subscriber   \n",
       "2495512             37.805318            -122.294837     5096  Subscriber   \n",
       "2495513             37.811351            -122.273422     4485  Subscriber   \n",
       "\n",
       "         member_birth_year member_gender bike_share_for_all_trip  \n",
       "0                   1986.0          Male                      No  \n",
       "1                      NaN           NaN                      No  \n",
       "2                   1996.0          Male                      No  \n",
       "3                      NaN           NaN                      No  \n",
       "4                   1991.0          Male                      No  \n",
       "...                    ...           ...                     ...  \n",
       "2495509             1992.0          Male                      No  \n",
       "2495510             1974.0          Male                     Yes  \n",
       "2495511             1994.0          Male                     Yes  \n",
       "2495512             1990.0         Other                     Yes  \n",
       "2495513             1983.0          Male                      No  \n",
       "\n",
       "[2495514 rows x 16 columns]"
      ]
     },
     "execution_count": 8,
     "metadata": {},
     "output_type": "execute_result"
    }
   ],
   "source": [
    "bikes_df"
   ]
  },
  {
   "cell_type": "code",
   "execution_count": 9,
   "metadata": {},
   "outputs": [
    {
     "data": {
      "text/html": [
       "<div>\n",
       "<style scoped>\n",
       "    .dataframe tbody tr th:only-of-type {\n",
       "        vertical-align: middle;\n",
       "    }\n",
       "\n",
       "    .dataframe tbody tr th {\n",
       "        vertical-align: top;\n",
       "    }\n",
       "\n",
       "    .dataframe thead th {\n",
       "        text-align: right;\n",
       "    }\n",
       "</style>\n",
       "<table border=\"1\" class=\"dataframe\">\n",
       "  <thead>\n",
       "    <tr style=\"text-align: right;\">\n",
       "      <th></th>\n",
       "      <th>duration_sec</th>\n",
       "      <th>start_time</th>\n",
       "      <th>end_time</th>\n",
       "      <th>start_station_id</th>\n",
       "      <th>start_station_name</th>\n",
       "      <th>start_station_latitude</th>\n",
       "      <th>start_station_longitude</th>\n",
       "      <th>end_station_id</th>\n",
       "      <th>end_station_name</th>\n",
       "      <th>end_station_latitude</th>\n",
       "      <th>end_station_longitude</th>\n",
       "      <th>bike_id</th>\n",
       "      <th>user_type</th>\n",
       "      <th>member_birth_year</th>\n",
       "      <th>member_gender</th>\n",
       "      <th>bike_share_for_all_trip</th>\n",
       "    </tr>\n",
       "  </thead>\n",
       "  <tbody>\n",
       "    <tr>\n",
       "      <th>1579814</th>\n",
       "      <td>134</td>\n",
       "      <td>2018-10-03 14:20:24.2250</td>\n",
       "      <td>2018-10-03 14:22:38.7870</td>\n",
       "      <td>216.0</td>\n",
       "      <td>San Pablo Ave at 27th St</td>\n",
       "      <td>37.817827</td>\n",
       "      <td>-122.275698</td>\n",
       "      <td>159.0</td>\n",
       "      <td>24th St at Market St</td>\n",
       "      <td>37.816060</td>\n",
       "      <td>-122.278244</td>\n",
       "      <td>1415</td>\n",
       "      <td>Subscriber</td>\n",
       "      <td>1975.0</td>\n",
       "      <td>Male</td>\n",
       "      <td>Yes</td>\n",
       "    </tr>\n",
       "    <tr>\n",
       "      <th>93721</th>\n",
       "      <td>86</td>\n",
       "      <td>2018-01-01 17:44:42.9040</td>\n",
       "      <td>2018-01-01 17:46:09.8590</td>\n",
       "      <td>24.0</td>\n",
       "      <td>Spear St at Folsom St</td>\n",
       "      <td>37.789677</td>\n",
       "      <td>-122.390428</td>\n",
       "      <td>23.0</td>\n",
       "      <td>The Embarcadero at Steuart St</td>\n",
       "      <td>37.791464</td>\n",
       "      <td>-122.391034</td>\n",
       "      <td>1111</td>\n",
       "      <td>Subscriber</td>\n",
       "      <td>1977.0</td>\n",
       "      <td>Male</td>\n",
       "      <td>No</td>\n",
       "    </tr>\n",
       "    <tr>\n",
       "      <th>1369693</th>\n",
       "      <td>794</td>\n",
       "      <td>2018-09-06 09:39:51.9140</td>\n",
       "      <td>2018-09-06 09:53:06.2690</td>\n",
       "      <td>NaN</td>\n",
       "      <td>NaN</td>\n",
       "      <td>37.410000</td>\n",
       "      <td>-121.940000</td>\n",
       "      <td>NaN</td>\n",
       "      <td>NaN</td>\n",
       "      <td>37.390000</td>\n",
       "      <td>-121.930000</td>\n",
       "      <td>4263</td>\n",
       "      <td>Subscriber</td>\n",
       "      <td>1992.0</td>\n",
       "      <td>Male</td>\n",
       "      <td>No</td>\n",
       "    </tr>\n",
       "    <tr>\n",
       "      <th>2420194</th>\n",
       "      <td>814</td>\n",
       "      <td>2019-03-11 18:49:43.0600</td>\n",
       "      <td>2019-03-11 19:03:18.0130</td>\n",
       "      <td>67.0</td>\n",
       "      <td>San Francisco Caltrain Station 2  (Townsend St...</td>\n",
       "      <td>37.776639</td>\n",
       "      <td>-122.395526</td>\n",
       "      <td>58.0</td>\n",
       "      <td>Market St at 10th St</td>\n",
       "      <td>37.776619</td>\n",
       "      <td>-122.417385</td>\n",
       "      <td>5933</td>\n",
       "      <td>Subscriber</td>\n",
       "      <td>1997.0</td>\n",
       "      <td>Male</td>\n",
       "      <td>No</td>\n",
       "    </tr>\n",
       "    <tr>\n",
       "      <th>2294147</th>\n",
       "      <td>584</td>\n",
       "      <td>2019-03-25 17:56:03.8730</td>\n",
       "      <td>2019-03-25 18:05:47.9610</td>\n",
       "      <td>97.0</td>\n",
       "      <td>14th St at Mission St</td>\n",
       "      <td>37.768265</td>\n",
       "      <td>-122.420110</td>\n",
       "      <td>132.0</td>\n",
       "      <td>24th St at Chattanooga St</td>\n",
       "      <td>37.751819</td>\n",
       "      <td>-122.426614</td>\n",
       "      <td>6787</td>\n",
       "      <td>Subscriber</td>\n",
       "      <td>1992.0</td>\n",
       "      <td>Female</td>\n",
       "      <td>No</td>\n",
       "    </tr>\n",
       "    <tr>\n",
       "      <th>2172349</th>\n",
       "      <td>361</td>\n",
       "      <td>2019-02-12 07:42:38.5230</td>\n",
       "      <td>2019-02-12 07:48:39.5320</td>\n",
       "      <td>5.0</td>\n",
       "      <td>Powell St BART Station (Market St at 5th St)</td>\n",
       "      <td>37.783899</td>\n",
       "      <td>-122.408445</td>\n",
       "      <td>80.0</td>\n",
       "      <td>Townsend St at 5th St</td>\n",
       "      <td>37.775235</td>\n",
       "      <td>-122.397437</td>\n",
       "      <td>861</td>\n",
       "      <td>Subscriber</td>\n",
       "      <td>1994.0</td>\n",
       "      <td>Male</td>\n",
       "      <td>No</td>\n",
       "    </tr>\n",
       "    <tr>\n",
       "      <th>2413474</th>\n",
       "      <td>472</td>\n",
       "      <td>2019-03-12 14:20:47.6970</td>\n",
       "      <td>2019-03-12 14:28:40.2290</td>\n",
       "      <td>183.0</td>\n",
       "      <td>Telegraph Ave at 19th St</td>\n",
       "      <td>37.808702</td>\n",
       "      <td>-122.269927</td>\n",
       "      <td>212.0</td>\n",
       "      <td>Mosswood Park</td>\n",
       "      <td>37.824893</td>\n",
       "      <td>-122.260437</td>\n",
       "      <td>4859</td>\n",
       "      <td>Subscriber</td>\n",
       "      <td>1990.0</td>\n",
       "      <td>Male</td>\n",
       "      <td>No</td>\n",
       "    </tr>\n",
       "    <tr>\n",
       "      <th>578133</th>\n",
       "      <td>715</td>\n",
       "      <td>2018-05-08 18:44:56.6920</td>\n",
       "      <td>2018-05-08 18:56:52.2920</td>\n",
       "      <td>114.0</td>\n",
       "      <td>Rhode Island St at 17th St</td>\n",
       "      <td>37.764478</td>\n",
       "      <td>-122.402570</td>\n",
       "      <td>284.0</td>\n",
       "      <td>Yerba Buena Center for the Arts (Howard St at ...</td>\n",
       "      <td>37.784872</td>\n",
       "      <td>-122.400876</td>\n",
       "      <td>4060</td>\n",
       "      <td>Subscriber</td>\n",
       "      <td>1985.0</td>\n",
       "      <td>Male</td>\n",
       "      <td>Yes</td>\n",
       "    </tr>\n",
       "    <tr>\n",
       "      <th>275040</th>\n",
       "      <td>230</td>\n",
       "      <td>2018-03-12 08:55:42.9910</td>\n",
       "      <td>2018-03-12 08:59:33.3260</td>\n",
       "      <td>200.0</td>\n",
       "      <td>2nd Ave at E 18th St</td>\n",
       "      <td>37.800214</td>\n",
       "      <td>-122.253810</td>\n",
       "      <td>201.0</td>\n",
       "      <td>10th St at Fallon St</td>\n",
       "      <td>37.797673</td>\n",
       "      <td>-122.262997</td>\n",
       "      <td>3281</td>\n",
       "      <td>Subscriber</td>\n",
       "      <td>1991.0</td>\n",
       "      <td>Male</td>\n",
       "      <td>No</td>\n",
       "    </tr>\n",
       "    <tr>\n",
       "      <th>510862</th>\n",
       "      <td>7176</td>\n",
       "      <td>2018-05-20 09:09:15.1020</td>\n",
       "      <td>2018-05-20 11:08:51.5320</td>\n",
       "      <td>15.0</td>\n",
       "      <td>San Francisco Ferry Building (Harry Bridges Pl...</td>\n",
       "      <td>37.795392</td>\n",
       "      <td>-122.394203</td>\n",
       "      <td>6.0</td>\n",
       "      <td>The Embarcadero at Sansome St</td>\n",
       "      <td>37.804770</td>\n",
       "      <td>-122.403234</td>\n",
       "      <td>4223</td>\n",
       "      <td>Subscriber</td>\n",
       "      <td>1982.0</td>\n",
       "      <td>Male</td>\n",
       "      <td>No</td>\n",
       "    </tr>\n",
       "  </tbody>\n",
       "</table>\n",
       "</div>"
      ],
      "text/plain": [
       "         duration_sec                start_time                  end_time  \\\n",
       "1579814           134  2018-10-03 14:20:24.2250  2018-10-03 14:22:38.7870   \n",
       "93721              86  2018-01-01 17:44:42.9040  2018-01-01 17:46:09.8590   \n",
       "1369693           794  2018-09-06 09:39:51.9140  2018-09-06 09:53:06.2690   \n",
       "2420194           814  2019-03-11 18:49:43.0600  2019-03-11 19:03:18.0130   \n",
       "2294147           584  2019-03-25 17:56:03.8730  2019-03-25 18:05:47.9610   \n",
       "2172349           361  2019-02-12 07:42:38.5230  2019-02-12 07:48:39.5320   \n",
       "2413474           472  2019-03-12 14:20:47.6970  2019-03-12 14:28:40.2290   \n",
       "578133            715  2018-05-08 18:44:56.6920  2018-05-08 18:56:52.2920   \n",
       "275040            230  2018-03-12 08:55:42.9910  2018-03-12 08:59:33.3260   \n",
       "510862           7176  2018-05-20 09:09:15.1020  2018-05-20 11:08:51.5320   \n",
       "\n",
       "         start_station_id                                 start_station_name  \\\n",
       "1579814             216.0                           San Pablo Ave at 27th St   \n",
       "93721                24.0                              Spear St at Folsom St   \n",
       "1369693               NaN                                                NaN   \n",
       "2420194              67.0  San Francisco Caltrain Station 2  (Townsend St...   \n",
       "2294147              97.0                              14th St at Mission St   \n",
       "2172349               5.0       Powell St BART Station (Market St at 5th St)   \n",
       "2413474             183.0                           Telegraph Ave at 19th St   \n",
       "578133              114.0                         Rhode Island St at 17th St   \n",
       "275040              200.0                               2nd Ave at E 18th St   \n",
       "510862               15.0  San Francisco Ferry Building (Harry Bridges Pl...   \n",
       "\n",
       "         start_station_latitude  start_station_longitude  end_station_id  \\\n",
       "1579814               37.817827              -122.275698           159.0   \n",
       "93721                 37.789677              -122.390428            23.0   \n",
       "1369693               37.410000              -121.940000             NaN   \n",
       "2420194               37.776639              -122.395526            58.0   \n",
       "2294147               37.768265              -122.420110           132.0   \n",
       "2172349               37.783899              -122.408445            80.0   \n",
       "2413474               37.808702              -122.269927           212.0   \n",
       "578133                37.764478              -122.402570           284.0   \n",
       "275040                37.800214              -122.253810           201.0   \n",
       "510862                37.795392              -122.394203             6.0   \n",
       "\n",
       "                                          end_station_name  \\\n",
       "1579814                               24th St at Market St   \n",
       "93721                        The Embarcadero at Steuart St   \n",
       "1369693                                                NaN   \n",
       "2420194                               Market St at 10th St   \n",
       "2294147                          24th St at Chattanooga St   \n",
       "2172349                              Townsend St at 5th St   \n",
       "2413474                                      Mosswood Park   \n",
       "578133   Yerba Buena Center for the Arts (Howard St at ...   \n",
       "275040                                10th St at Fallon St   \n",
       "510862                       The Embarcadero at Sansome St   \n",
       "\n",
       "         end_station_latitude  end_station_longitude  bike_id   user_type  \\\n",
       "1579814             37.816060            -122.278244     1415  Subscriber   \n",
       "93721               37.791464            -122.391034     1111  Subscriber   \n",
       "1369693             37.390000            -121.930000     4263  Subscriber   \n",
       "2420194             37.776619            -122.417385     5933  Subscriber   \n",
       "2294147             37.751819            -122.426614     6787  Subscriber   \n",
       "2172349             37.775235            -122.397437      861  Subscriber   \n",
       "2413474             37.824893            -122.260437     4859  Subscriber   \n",
       "578133              37.784872            -122.400876     4060  Subscriber   \n",
       "275040              37.797673            -122.262997     3281  Subscriber   \n",
       "510862              37.804770            -122.403234     4223  Subscriber   \n",
       "\n",
       "         member_birth_year member_gender bike_share_for_all_trip  \n",
       "1579814             1975.0          Male                     Yes  \n",
       "93721               1977.0          Male                      No  \n",
       "1369693             1992.0          Male                      No  \n",
       "2420194             1997.0          Male                      No  \n",
       "2294147             1992.0        Female                      No  \n",
       "2172349             1994.0          Male                      No  \n",
       "2413474             1990.0          Male                      No  \n",
       "578133              1985.0          Male                     Yes  \n",
       "275040              1991.0          Male                      No  \n",
       "510862              1982.0          Male                      No  "
      ]
     },
     "execution_count": 9,
     "metadata": {},
     "output_type": "execute_result"
    }
   ],
   "source": [
    "bikes_df.sample(10)"
   ]
  },
  {
   "cell_type": "markdown",
   "metadata": {},
   "source": [
    "## Programmatic assessment"
   ]
  },
  {
   "cell_type": "code",
   "execution_count": 10,
   "metadata": {},
   "outputs": [
    {
     "name": "stdout",
     "output_type": "stream",
     "text": [
      "<class 'pandas.core.frame.DataFrame'>\n",
      "RangeIndex: 2495514 entries, 0 to 2495513\n",
      "Data columns (total 16 columns):\n",
      " #   Column                   Dtype  \n",
      "---  ------                   -----  \n",
      " 0   duration_sec             int64  \n",
      " 1   start_time               object \n",
      " 2   end_time                 object \n",
      " 3   start_station_id         float64\n",
      " 4   start_station_name       object \n",
      " 5   start_station_latitude   float64\n",
      " 6   start_station_longitude  float64\n",
      " 7   end_station_id           float64\n",
      " 8   end_station_name         object \n",
      " 9   end_station_latitude     float64\n",
      " 10  end_station_longitude    float64\n",
      " 11  bike_id                  int64  \n",
      " 12  user_type                object \n",
      " 13  member_birth_year        float64\n",
      " 14  member_gender            object \n",
      " 15  bike_share_for_all_trip  object \n",
      "dtypes: float64(7), int64(2), object(7)\n",
      "memory usage: 304.6+ MB\n"
     ]
    }
   ],
   "source": [
    "bikes_df.info()"
   ]
  },
  {
   "cell_type": "code",
   "execution_count": 11,
   "metadata": {},
   "outputs": [
    {
     "data": {
      "text/plain": [
       "duration_sec                    0\n",
       "start_time                      0\n",
       "end_time                        0\n",
       "start_station_id            12437\n",
       "start_station_name          12437\n",
       "start_station_latitude          0\n",
       "start_station_longitude         0\n",
       "end_station_id              12437\n",
       "end_station_name            12437\n",
       "end_station_latitude            0\n",
       "end_station_longitude           0\n",
       "bike_id                         0\n",
       "user_type                       0\n",
       "member_birth_year          140426\n",
       "member_gender              140072\n",
       "bike_share_for_all_trip         0\n",
       "dtype: int64"
      ]
     },
     "execution_count": 11,
     "metadata": {},
     "output_type": "execute_result"
    }
   ],
   "source": [
    "bikes_df.isnull().sum()"
   ]
  },
  {
   "cell_type": "code",
   "execution_count": 12,
   "metadata": {},
   "outputs": [
    {
     "data": {
      "text/plain": [
       "0"
      ]
     },
     "execution_count": 12,
     "metadata": {},
     "output_type": "execute_result"
    }
   ],
   "source": [
    "bikes_df.duplicated().sum()"
   ]
  },
  {
   "cell_type": "code",
   "execution_count": 13,
   "metadata": {},
   "outputs": [
    {
     "data": {
      "text/plain": [
       "1988.0    137891\n",
       "1989.0    116568\n",
       "1987.0    115247\n",
       "1990.0    112204\n",
       "1993.0    109232\n",
       "           ...  \n",
       "1878.0         3\n",
       "1930.0         2\n",
       "1906.0         2\n",
       "1903.0         1\n",
       "1910.0         1\n",
       "Name: member_birth_year, Length: 90, dtype: int64"
      ]
     },
     "execution_count": 13,
     "metadata": {},
     "output_type": "execute_result"
    }
   ],
   "source": [
    "bikes_df.member_birth_year.value_counts()"
   ]
  },
  {
   "cell_type": "code",
   "execution_count": 14,
   "metadata": {},
   "outputs": [
    {
     "data": {
      "text/html": [
       "<div>\n",
       "<style scoped>\n",
       "    .dataframe tbody tr th:only-of-type {\n",
       "        vertical-align: middle;\n",
       "    }\n",
       "\n",
       "    .dataframe tbody tr th {\n",
       "        vertical-align: top;\n",
       "    }\n",
       "\n",
       "    .dataframe thead th {\n",
       "        text-align: right;\n",
       "    }\n",
       "</style>\n",
       "<table border=\"1\" class=\"dataframe\">\n",
       "  <thead>\n",
       "    <tr style=\"text-align: right;\">\n",
       "      <th></th>\n",
       "      <th>duration_sec</th>\n",
       "      <th>start_time</th>\n",
       "      <th>end_time</th>\n",
       "      <th>start_station_id</th>\n",
       "      <th>start_station_name</th>\n",
       "      <th>start_station_latitude</th>\n",
       "      <th>start_station_longitude</th>\n",
       "      <th>end_station_id</th>\n",
       "      <th>end_station_name</th>\n",
       "      <th>end_station_latitude</th>\n",
       "      <th>end_station_longitude</th>\n",
       "      <th>bike_id</th>\n",
       "      <th>user_type</th>\n",
       "      <th>member_birth_year</th>\n",
       "      <th>member_gender</th>\n",
       "      <th>bike_share_for_all_trip</th>\n",
       "    </tr>\n",
       "  </thead>\n",
       "  <tbody>\n",
       "    <tr>\n",
       "      <th>93</th>\n",
       "      <td>465</td>\n",
       "      <td>2018-01-31 21:56:17.6330</td>\n",
       "      <td>2018-01-31 22:04:02.8280</td>\n",
       "      <td>3.0</td>\n",
       "      <td>Powell St BART Station (Market St at 4th St)</td>\n",
       "      <td>37.786375</td>\n",
       "      <td>-122.404904</td>\n",
       "      <td>60.0</td>\n",
       "      <td>8th St at Ringold St</td>\n",
       "      <td>37.774520</td>\n",
       "      <td>-122.409449</td>\n",
       "      <td>1168</td>\n",
       "      <td>Subscriber</td>\n",
       "      <td>1911.0</td>\n",
       "      <td>Other</td>\n",
       "      <td>No</td>\n",
       "    </tr>\n",
       "    <tr>\n",
       "      <th>1065</th>\n",
       "      <td>549</td>\n",
       "      <td>2018-01-31 18:01:24.7290</td>\n",
       "      <td>2018-01-31 18:10:34.2680</td>\n",
       "      <td>78.0</td>\n",
       "      <td>Folsom St at 9th St</td>\n",
       "      <td>37.773717</td>\n",
       "      <td>-122.411647</td>\n",
       "      <td>5.0</td>\n",
       "      <td>Powell St BART Station (Market St at 5th St)</td>\n",
       "      <td>37.783899</td>\n",
       "      <td>-122.408445</td>\n",
       "      <td>2920</td>\n",
       "      <td>Subscriber</td>\n",
       "      <td>1911.0</td>\n",
       "      <td>Other</td>\n",
       "      <td>No</td>\n",
       "    </tr>\n",
       "    <tr>\n",
       "      <th>1254</th>\n",
       "      <td>568</td>\n",
       "      <td>2018-01-31 17:40:47.7010</td>\n",
       "      <td>2018-01-31 17:50:16.5020</td>\n",
       "      <td>223.0</td>\n",
       "      <td>16th St Mission BART Station 2</td>\n",
       "      <td>37.764765</td>\n",
       "      <td>-122.420091</td>\n",
       "      <td>60.0</td>\n",
       "      <td>8th St at Ringold St</td>\n",
       "      <td>37.774520</td>\n",
       "      <td>-122.409449</td>\n",
       "      <td>3363</td>\n",
       "      <td>Subscriber</td>\n",
       "      <td>1911.0</td>\n",
       "      <td>Other</td>\n",
       "      <td>No</td>\n",
       "    </tr>\n",
       "    <tr>\n",
       "      <th>1532</th>\n",
       "      <td>658</td>\n",
       "      <td>2018-01-31 17:11:03.4240</td>\n",
       "      <td>2018-01-31 17:22:01.9530</td>\n",
       "      <td>19.0</td>\n",
       "      <td>Post St at Kearny St</td>\n",
       "      <td>37.788975</td>\n",
       "      <td>-122.403452</td>\n",
       "      <td>30.0</td>\n",
       "      <td>San Francisco Caltrain (Townsend St at 4th St)</td>\n",
       "      <td>37.776598</td>\n",
       "      <td>-122.395282</td>\n",
       "      <td>2992</td>\n",
       "      <td>Subscriber</td>\n",
       "      <td>1902.0</td>\n",
       "      <td>Male</td>\n",
       "      <td>No</td>\n",
       "    </tr>\n",
       "    <tr>\n",
       "      <th>2983</th>\n",
       "      <td>1681</td>\n",
       "      <td>2018-01-31 09:37:00.0450</td>\n",
       "      <td>2018-01-31 10:05:01.8970</td>\n",
       "      <td>6.0</td>\n",
       "      <td>The Embarcadero at Sansome St</td>\n",
       "      <td>37.804770</td>\n",
       "      <td>-122.403234</td>\n",
       "      <td>98.0</td>\n",
       "      <td>Valencia St at 16th St</td>\n",
       "      <td>37.765052</td>\n",
       "      <td>-122.421866</td>\n",
       "      <td>3447</td>\n",
       "      <td>Subscriber</td>\n",
       "      <td>1911.0</td>\n",
       "      <td>Other</td>\n",
       "      <td>No</td>\n",
       "    </tr>\n",
       "    <tr>\n",
       "      <th>...</th>\n",
       "      <td>...</td>\n",
       "      <td>...</td>\n",
       "      <td>...</td>\n",
       "      <td>...</td>\n",
       "      <td>...</td>\n",
       "      <td>...</td>\n",
       "      <td>...</td>\n",
       "      <td>...</td>\n",
       "      <td>...</td>\n",
       "      <td>...</td>\n",
       "      <td>...</td>\n",
       "      <td>...</td>\n",
       "      <td>...</td>\n",
       "      <td>...</td>\n",
       "      <td>...</td>\n",
       "      <td>...</td>\n",
       "    </tr>\n",
       "    <tr>\n",
       "      <th>2483105</th>\n",
       "      <td>699</td>\n",
       "      <td>2019-03-03 07:36:48.5980</td>\n",
       "      <td>2019-03-03 07:48:28.5700</td>\n",
       "      <td>284.0</td>\n",
       "      <td>Yerba Buena Center for the Arts (Howard St at ...</td>\n",
       "      <td>37.784872</td>\n",
       "      <td>-122.400876</td>\n",
       "      <td>114.0</td>\n",
       "      <td>Rhode Island St at 17th St</td>\n",
       "      <td>37.764478</td>\n",
       "      <td>-122.402570</td>\n",
       "      <td>5479</td>\n",
       "      <td>Subscriber</td>\n",
       "      <td>1901.0</td>\n",
       "      <td>Male</td>\n",
       "      <td>No</td>\n",
       "    </tr>\n",
       "    <tr>\n",
       "      <th>2484434</th>\n",
       "      <td>441</td>\n",
       "      <td>2019-03-02 17:50:01.2370</td>\n",
       "      <td>2019-03-02 17:57:22.8480</td>\n",
       "      <td>173.0</td>\n",
       "      <td>Shattuck Ave at 55th St</td>\n",
       "      <td>37.840364</td>\n",
       "      <td>-122.264488</td>\n",
       "      <td>176.0</td>\n",
       "      <td>MacArthur BART Station</td>\n",
       "      <td>37.828410</td>\n",
       "      <td>-122.266315</td>\n",
       "      <td>588</td>\n",
       "      <td>Subscriber</td>\n",
       "      <td>1900.0</td>\n",
       "      <td>Male</td>\n",
       "      <td>Yes</td>\n",
       "    </tr>\n",
       "    <tr>\n",
       "      <th>2489898</th>\n",
       "      <td>1430</td>\n",
       "      <td>2019-03-01 16:31:42.8830</td>\n",
       "      <td>2019-03-01 16:55:33.4370</td>\n",
       "      <td>343.0</td>\n",
       "      <td>Bryant St at 2nd St</td>\n",
       "      <td>37.783172</td>\n",
       "      <td>-122.393572</td>\n",
       "      <td>375.0</td>\n",
       "      <td>Grove St at Masonic Ave</td>\n",
       "      <td>37.774836</td>\n",
       "      <td>-122.446546</td>\n",
       "      <td>5032</td>\n",
       "      <td>Subscriber</td>\n",
       "      <td>1900.0</td>\n",
       "      <td>Male</td>\n",
       "      <td>No</td>\n",
       "    </tr>\n",
       "    <tr>\n",
       "      <th>2490339</th>\n",
       "      <td>157</td>\n",
       "      <td>2019-03-01 16:17:56.8800</td>\n",
       "      <td>2019-03-01 16:20:34.7530</td>\n",
       "      <td>174.0</td>\n",
       "      <td>Shattuck Ave at 51st St</td>\n",
       "      <td>37.836801</td>\n",
       "      <td>-122.264004</td>\n",
       "      <td>173.0</td>\n",
       "      <td>Shattuck Ave at 55th St</td>\n",
       "      <td>37.840364</td>\n",
       "      <td>-122.264488</td>\n",
       "      <td>417</td>\n",
       "      <td>Subscriber</td>\n",
       "      <td>1900.0</td>\n",
       "      <td>Male</td>\n",
       "      <td>Yes</td>\n",
       "    </tr>\n",
       "    <tr>\n",
       "      <th>2494643</th>\n",
       "      <td>1077</td>\n",
       "      <td>2019-03-01 07:51:33.1000</td>\n",
       "      <td>2019-03-01 08:09:30.5010</td>\n",
       "      <td>375.0</td>\n",
       "      <td>Grove St at Masonic Ave</td>\n",
       "      <td>37.774836</td>\n",
       "      <td>-122.446546</td>\n",
       "      <td>36.0</td>\n",
       "      <td>Folsom St at 3rd St</td>\n",
       "      <td>37.783830</td>\n",
       "      <td>-122.398870</td>\n",
       "      <td>5843</td>\n",
       "      <td>Subscriber</td>\n",
       "      <td>1900.0</td>\n",
       "      <td>Male</td>\n",
       "      <td>No</td>\n",
       "    </tr>\n",
       "  </tbody>\n",
       "</table>\n",
       "<p>1437 rows × 16 columns</p>\n",
       "</div>"
      ],
      "text/plain": [
       "         duration_sec                start_time                  end_time  \\\n",
       "93                465  2018-01-31 21:56:17.6330  2018-01-31 22:04:02.8280   \n",
       "1065              549  2018-01-31 18:01:24.7290  2018-01-31 18:10:34.2680   \n",
       "1254              568  2018-01-31 17:40:47.7010  2018-01-31 17:50:16.5020   \n",
       "1532              658  2018-01-31 17:11:03.4240  2018-01-31 17:22:01.9530   \n",
       "2983             1681  2018-01-31 09:37:00.0450  2018-01-31 10:05:01.8970   \n",
       "...               ...                       ...                       ...   \n",
       "2483105           699  2019-03-03 07:36:48.5980  2019-03-03 07:48:28.5700   \n",
       "2484434           441  2019-03-02 17:50:01.2370  2019-03-02 17:57:22.8480   \n",
       "2489898          1430  2019-03-01 16:31:42.8830  2019-03-01 16:55:33.4370   \n",
       "2490339           157  2019-03-01 16:17:56.8800  2019-03-01 16:20:34.7530   \n",
       "2494643          1077  2019-03-01 07:51:33.1000  2019-03-01 08:09:30.5010   \n",
       "\n",
       "         start_station_id                                 start_station_name  \\\n",
       "93                    3.0       Powell St BART Station (Market St at 4th St)   \n",
       "1065                 78.0                                Folsom St at 9th St   \n",
       "1254                223.0                     16th St Mission BART Station 2   \n",
       "1532                 19.0                               Post St at Kearny St   \n",
       "2983                  6.0                      The Embarcadero at Sansome St   \n",
       "...                   ...                                                ...   \n",
       "2483105             284.0  Yerba Buena Center for the Arts (Howard St at ...   \n",
       "2484434             173.0                            Shattuck Ave at 55th St   \n",
       "2489898             343.0                                Bryant St at 2nd St   \n",
       "2490339             174.0                            Shattuck Ave at 51st St   \n",
       "2494643             375.0                            Grove St at Masonic Ave   \n",
       "\n",
       "         start_station_latitude  start_station_longitude  end_station_id  \\\n",
       "93                    37.786375              -122.404904            60.0   \n",
       "1065                  37.773717              -122.411647             5.0   \n",
       "1254                  37.764765              -122.420091            60.0   \n",
       "1532                  37.788975              -122.403452            30.0   \n",
       "2983                  37.804770              -122.403234            98.0   \n",
       "...                         ...                      ...             ...   \n",
       "2483105               37.784872              -122.400876           114.0   \n",
       "2484434               37.840364              -122.264488           176.0   \n",
       "2489898               37.783172              -122.393572           375.0   \n",
       "2490339               37.836801              -122.264004           173.0   \n",
       "2494643               37.774836              -122.446546            36.0   \n",
       "\n",
       "                                       end_station_name  end_station_latitude  \\\n",
       "93                                 8th St at Ringold St             37.774520   \n",
       "1065       Powell St BART Station (Market St at 5th St)             37.783899   \n",
       "1254                               8th St at Ringold St             37.774520   \n",
       "1532     San Francisco Caltrain (Townsend St at 4th St)             37.776598   \n",
       "2983                             Valencia St at 16th St             37.765052   \n",
       "...                                                 ...                   ...   \n",
       "2483105                      Rhode Island St at 17th St             37.764478   \n",
       "2484434                          MacArthur BART Station             37.828410   \n",
       "2489898                         Grove St at Masonic Ave             37.774836   \n",
       "2490339                         Shattuck Ave at 55th St             37.840364   \n",
       "2494643                             Folsom St at 3rd St             37.783830   \n",
       "\n",
       "         end_station_longitude  bike_id   user_type  member_birth_year  \\\n",
       "93                 -122.409449     1168  Subscriber             1911.0   \n",
       "1065               -122.408445     2920  Subscriber             1911.0   \n",
       "1254               -122.409449     3363  Subscriber             1911.0   \n",
       "1532               -122.395282     2992  Subscriber             1902.0   \n",
       "2983               -122.421866     3447  Subscriber             1911.0   \n",
       "...                        ...      ...         ...                ...   \n",
       "2483105            -122.402570     5479  Subscriber             1901.0   \n",
       "2484434            -122.266315      588  Subscriber             1900.0   \n",
       "2489898            -122.446546     5032  Subscriber             1900.0   \n",
       "2490339            -122.264488      417  Subscriber             1900.0   \n",
       "2494643            -122.398870     5843  Subscriber             1900.0   \n",
       "\n",
       "        member_gender bike_share_for_all_trip  \n",
       "93              Other                      No  \n",
       "1065            Other                      No  \n",
       "1254            Other                      No  \n",
       "1532             Male                      No  \n",
       "2983            Other                      No  \n",
       "...               ...                     ...  \n",
       "2483105          Male                      No  \n",
       "2484434          Male                     Yes  \n",
       "2489898          Male                      No  \n",
       "2490339          Male                     Yes  \n",
       "2494643          Male                      No  \n",
       "\n",
       "[1437 rows x 16 columns]"
      ]
     },
     "execution_count": 14,
     "metadata": {},
     "output_type": "execute_result"
    }
   ],
   "source": [
    "bikes_df[bikes_df.member_birth_year < 1919]"
   ]
  },
  {
   "cell_type": "markdown",
   "metadata": {},
   "source": [
    "**Quality**\n",
    "* Wrong datatypes assigned to start_time, end_time\n",
    "* Inconsistent values in member_birth_year\n",
    "\n",
    "**Tidiness**\n",
    "- No tidiness issues. In my opinion the data is ok, just some feature engineering to be made.\n",
    "\n",
    "**Possible Feature Engineering**\n",
    "- New column age_range\n",
    "- New column month_year"
   ]
  },
  {
   "cell_type": "markdown",
   "metadata": {},
   "source": [
    "# Clean"
   ]
  },
  {
   "cell_type": "code",
   "execution_count": 40,
   "metadata": {},
   "outputs": [],
   "source": [
    "bikes_df_clean = bikes_df.copy()"
   ]
  },
  {
   "cell_type": "markdown",
   "metadata": {},
   "source": [
    "**Wrong datatypes: start_time, end_time**\n",
    "\n",
    "#### Define\n",
    "Change the datatypes with pandas function"
   ]
  },
  {
   "cell_type": "code",
   "execution_count": 41,
   "metadata": {},
   "outputs": [],
   "source": [
    "bikes_df_clean['start_time'] = pd.to_datetime(bikes_df_clean['start_time'])\n",
    "bikes_df_clean['end_time'] = pd.to_datetime(bikes_df_clean['end_time'])"
   ]
  },
  {
   "cell_type": "markdown",
   "metadata": {},
   "source": [
    "#### Test"
   ]
  },
  {
   "cell_type": "code",
   "execution_count": 42,
   "metadata": {},
   "outputs": [
    {
     "name": "stdout",
     "output_type": "stream",
     "text": [
      "<class 'pandas.core.frame.DataFrame'>\n",
      "RangeIndex: 2495514 entries, 0 to 2495513\n",
      "Data columns (total 16 columns):\n",
      " #   Column                   Dtype         \n",
      "---  ------                   -----         \n",
      " 0   duration_sec             int64         \n",
      " 1   start_time               datetime64[ns]\n",
      " 2   end_time                 datetime64[ns]\n",
      " 3   start_station_id         float64       \n",
      " 4   start_station_name       object        \n",
      " 5   start_station_latitude   float64       \n",
      " 6   start_station_longitude  float64       \n",
      " 7   end_station_id           float64       \n",
      " 8   end_station_name         object        \n",
      " 9   end_station_latitude     float64       \n",
      " 10  end_station_longitude    float64       \n",
      " 11  bike_id                  int64         \n",
      " 12  user_type                object        \n",
      " 13  member_birth_year        float64       \n",
      " 14  member_gender            object        \n",
      " 15  bike_share_for_all_trip  object        \n",
      "dtypes: datetime64[ns](2), float64(7), int64(2), object(5)\n",
      "memory usage: 304.6+ MB\n"
     ]
    }
   ],
   "source": [
    "bikes_df_clean.info()"
   ]
  },
  {
   "cell_type": "markdown",
   "metadata": {},
   "source": [
    "**Incosisntet values in member_age_year**\n",
    "\n",
    "#### Define\n",
    "Will be considered only ages greater or equal than 1919 anges ages lower than 1900 can be considered as a typing error, we can replace the digit of hundred 8 to 9 (1889 -> 1989)"
   ]
  },
  {
   "cell_type": "code",
   "execution_count": 43,
   "metadata": {},
   "outputs": [
    {
     "name": "stdout",
     "output_type": "stream",
     "text": [
      "Values < 1900: 45\n",
      "Rows before: 2495514\n"
     ]
    }
   ],
   "source": [
    "print('Values < 1900:', (bikes_df_clean.member_birth_year < 1900).sum())\n",
    "print('Rows before:', bikes_df_clean.shape[0])\n",
    "bikes_df_clean['member_birth_year'] = bikes_df_clean.member_birth_year.apply(lambda x: int('19'+str(int(x))[-2:]) if x < 1900 else x)\n",
    "bikes_df_clean = bikes_df_clean[bikes_df_clean.member_birth_year >= 1919]"
   ]
  },
  {
   "cell_type": "markdown",
   "metadata": {},
   "source": [
    "#### Test"
   ]
  },
  {
   "cell_type": "code",
   "execution_count": 44,
   "metadata": {},
   "outputs": [
    {
     "name": "stdout",
     "output_type": "stream",
     "text": [
      "Rows after: 2353696\n"
     ]
    },
    {
     "data": {
      "text/html": [
       "<div>\n",
       "<style scoped>\n",
       "    .dataframe tbody tr th:only-of-type {\n",
       "        vertical-align: middle;\n",
       "    }\n",
       "\n",
       "    .dataframe tbody tr th {\n",
       "        vertical-align: top;\n",
       "    }\n",
       "\n",
       "    .dataframe thead th {\n",
       "        text-align: right;\n",
       "    }\n",
       "</style>\n",
       "<table border=\"1\" class=\"dataframe\">\n",
       "  <thead>\n",
       "    <tr style=\"text-align: right;\">\n",
       "      <th></th>\n",
       "      <th>duration_sec</th>\n",
       "      <th>start_time</th>\n",
       "      <th>end_time</th>\n",
       "      <th>start_station_id</th>\n",
       "      <th>start_station_name</th>\n",
       "      <th>start_station_latitude</th>\n",
       "      <th>start_station_longitude</th>\n",
       "      <th>end_station_id</th>\n",
       "      <th>end_station_name</th>\n",
       "      <th>end_station_latitude</th>\n",
       "      <th>end_station_longitude</th>\n",
       "      <th>bike_id</th>\n",
       "      <th>user_type</th>\n",
       "      <th>member_birth_year</th>\n",
       "      <th>member_gender</th>\n",
       "      <th>bike_share_for_all_trip</th>\n",
       "    </tr>\n",
       "  </thead>\n",
       "  <tbody>\n",
       "  </tbody>\n",
       "</table>\n",
       "</div>"
      ],
      "text/plain": [
       "Empty DataFrame\n",
       "Columns: [duration_sec, start_time, end_time, start_station_id, start_station_name, start_station_latitude, start_station_longitude, end_station_id, end_station_name, end_station_latitude, end_station_longitude, bike_id, user_type, member_birth_year, member_gender, bike_share_for_all_trip]\n",
       "Index: []"
      ]
     },
     "execution_count": 44,
     "metadata": {},
     "output_type": "execute_result"
    }
   ],
   "source": [
    "print('Rows after:', bikes_df_clean.shape[0])\n",
    "bikes_df_clean[bikes_df_clean.member_birth_year < 1919]"
   ]
  },
  {
   "cell_type": "markdown",
   "metadata": {},
   "source": [
    "**New column age_groups and change the datatype**\n",
    "\n",
    "#### Define\n",
    "Associate the age of the member with the member_birth_year column and create age ranges. Then, change the datatype to categorical in order."
   ]
  },
  {
   "cell_type": "code",
   "execution_count": 45,
   "metadata": {},
   "outputs": [
    {
     "data": {
      "text/html": [
       "<div>\n",
       "<style scoped>\n",
       "    .dataframe tbody tr th:only-of-type {\n",
       "        vertical-align: middle;\n",
       "    }\n",
       "\n",
       "    .dataframe tbody tr th {\n",
       "        vertical-align: top;\n",
       "    }\n",
       "\n",
       "    .dataframe thead th {\n",
       "        text-align: right;\n",
       "    }\n",
       "</style>\n",
       "<table border=\"1\" class=\"dataframe\">\n",
       "  <thead>\n",
       "    <tr style=\"text-align: right;\">\n",
       "      <th></th>\n",
       "      <th>duration_sec</th>\n",
       "      <th>start_time</th>\n",
       "      <th>end_time</th>\n",
       "      <th>start_station_id</th>\n",
       "      <th>start_station_name</th>\n",
       "      <th>start_station_latitude</th>\n",
       "      <th>start_station_longitude</th>\n",
       "      <th>end_station_id</th>\n",
       "      <th>end_station_name</th>\n",
       "      <th>end_station_latitude</th>\n",
       "      <th>end_station_longitude</th>\n",
       "      <th>bike_id</th>\n",
       "      <th>user_type</th>\n",
       "      <th>member_birth_year</th>\n",
       "      <th>member_gender</th>\n",
       "      <th>bike_share_for_all_trip</th>\n",
       "      <th>age_range</th>\n",
       "    </tr>\n",
       "  </thead>\n",
       "  <tbody>\n",
       "    <tr>\n",
       "      <th>0</th>\n",
       "      <td>75284</td>\n",
       "      <td>2018-01-31 22:52:35.239</td>\n",
       "      <td>2018-02-01 19:47:19.824</td>\n",
       "      <td>120.0</td>\n",
       "      <td>Mission Dolores Park</td>\n",
       "      <td>37.761420</td>\n",
       "      <td>-122.426435</td>\n",
       "      <td>285.0</td>\n",
       "      <td>Webster St at O'Farrell St</td>\n",
       "      <td>37.783521</td>\n",
       "      <td>-122.431158</td>\n",
       "      <td>2765</td>\n",
       "      <td>Subscriber</td>\n",
       "      <td>1986.0</td>\n",
       "      <td>Male</td>\n",
       "      <td>No</td>\n",
       "      <td>[30, 40)</td>\n",
       "    </tr>\n",
       "    <tr>\n",
       "      <th>2</th>\n",
       "      <td>71576</td>\n",
       "      <td>2018-01-31 14:23:55.889</td>\n",
       "      <td>2018-02-01 10:16:52.116</td>\n",
       "      <td>304.0</td>\n",
       "      <td>Jackson St at 5th St</td>\n",
       "      <td>37.348759</td>\n",
       "      <td>-121.894798</td>\n",
       "      <td>296.0</td>\n",
       "      <td>5th St at Virginia St</td>\n",
       "      <td>37.325998</td>\n",
       "      <td>-121.877120</td>\n",
       "      <td>3039</td>\n",
       "      <td>Customer</td>\n",
       "      <td>1996.0</td>\n",
       "      <td>Male</td>\n",
       "      <td>No</td>\n",
       "      <td>[20, 30)</td>\n",
       "    </tr>\n",
       "    <tr>\n",
       "      <th>4</th>\n",
       "      <td>39966</td>\n",
       "      <td>2018-01-31 19:52:24.667</td>\n",
       "      <td>2018-02-01 06:58:31.053</td>\n",
       "      <td>74.0</td>\n",
       "      <td>Laguna St at Hayes St</td>\n",
       "      <td>37.776435</td>\n",
       "      <td>-122.426244</td>\n",
       "      <td>19.0</td>\n",
       "      <td>Post St at Kearny St</td>\n",
       "      <td>37.788975</td>\n",
       "      <td>-122.403452</td>\n",
       "      <td>617</td>\n",
       "      <td>Subscriber</td>\n",
       "      <td>1991.0</td>\n",
       "      <td>Male</td>\n",
       "      <td>No</td>\n",
       "      <td>[20, 30)</td>\n",
       "    </tr>\n",
       "    <tr>\n",
       "      <th>6</th>\n",
       "      <td>453</td>\n",
       "      <td>2018-01-31 23:53:53.632</td>\n",
       "      <td>2018-02-01 00:01:26.805</td>\n",
       "      <td>110.0</td>\n",
       "      <td>17th &amp; Folsom Street Park (17th St at Folsom St)</td>\n",
       "      <td>37.763708</td>\n",
       "      <td>-122.415204</td>\n",
       "      <td>134.0</td>\n",
       "      <td>Valencia St at 24th St</td>\n",
       "      <td>37.752428</td>\n",
       "      <td>-122.420628</td>\n",
       "      <td>3571</td>\n",
       "      <td>Subscriber</td>\n",
       "      <td>1988.0</td>\n",
       "      <td>Male</td>\n",
       "      <td>No</td>\n",
       "      <td>[30, 40)</td>\n",
       "    </tr>\n",
       "    <tr>\n",
       "      <th>7</th>\n",
       "      <td>180</td>\n",
       "      <td>2018-01-31 23:52:09.903</td>\n",
       "      <td>2018-01-31 23:55:10.807</td>\n",
       "      <td>81.0</td>\n",
       "      <td>Berry St at 4th St</td>\n",
       "      <td>37.775880</td>\n",
       "      <td>-122.393170</td>\n",
       "      <td>93.0</td>\n",
       "      <td>4th St at Mission Bay Blvd S</td>\n",
       "      <td>37.770407</td>\n",
       "      <td>-122.391198</td>\n",
       "      <td>1403</td>\n",
       "      <td>Subscriber</td>\n",
       "      <td>1980.0</td>\n",
       "      <td>Male</td>\n",
       "      <td>No</td>\n",
       "      <td>[30, 40)</td>\n",
       "    </tr>\n",
       "  </tbody>\n",
       "</table>\n",
       "</div>"
      ],
      "text/plain": [
       "   duration_sec              start_time                end_time  \\\n",
       "0         75284 2018-01-31 22:52:35.239 2018-02-01 19:47:19.824   \n",
       "2         71576 2018-01-31 14:23:55.889 2018-02-01 10:16:52.116   \n",
       "4         39966 2018-01-31 19:52:24.667 2018-02-01 06:58:31.053   \n",
       "6           453 2018-01-31 23:53:53.632 2018-02-01 00:01:26.805   \n",
       "7           180 2018-01-31 23:52:09.903 2018-01-31 23:55:10.807   \n",
       "\n",
       "   start_station_id                                start_station_name  \\\n",
       "0             120.0                              Mission Dolores Park   \n",
       "2             304.0                              Jackson St at 5th St   \n",
       "4              74.0                             Laguna St at Hayes St   \n",
       "6             110.0  17th & Folsom Street Park (17th St at Folsom St)   \n",
       "7              81.0                                Berry St at 4th St   \n",
       "\n",
       "   start_station_latitude  start_station_longitude  end_station_id  \\\n",
       "0               37.761420              -122.426435           285.0   \n",
       "2               37.348759              -121.894798           296.0   \n",
       "4               37.776435              -122.426244            19.0   \n",
       "6               37.763708              -122.415204           134.0   \n",
       "7               37.775880              -122.393170            93.0   \n",
       "\n",
       "               end_station_name  end_station_latitude  end_station_longitude  \\\n",
       "0    Webster St at O'Farrell St             37.783521            -122.431158   \n",
       "2         5th St at Virginia St             37.325998            -121.877120   \n",
       "4          Post St at Kearny St             37.788975            -122.403452   \n",
       "6        Valencia St at 24th St             37.752428            -122.420628   \n",
       "7  4th St at Mission Bay Blvd S             37.770407            -122.391198   \n",
       "\n",
       "   bike_id   user_type  member_birth_year member_gender  \\\n",
       "0     2765  Subscriber             1986.0          Male   \n",
       "2     3039    Customer             1996.0          Male   \n",
       "4      617  Subscriber             1991.0          Male   \n",
       "6     3571  Subscriber             1988.0          Male   \n",
       "7     1403  Subscriber             1980.0          Male   \n",
       "\n",
       "  bike_share_for_all_trip age_range  \n",
       "0                      No  [30, 40)  \n",
       "2                      No  [20, 30)  \n",
       "4                      No  [20, 30)  \n",
       "6                      No  [30, 40)  \n",
       "7                      No  [30, 40)  "
      ]
     },
     "execution_count": 45,
     "metadata": {},
     "output_type": "execute_result"
    }
   ],
   "source": [
    "bikes_df_clean['age'] = 2019 - bikes_df_clean.member_birth_year\n",
    "\n",
    "min_age_limit = np.int(np.floor(np.min(bikes_df_clean['age'])/10)*10)\n",
    "max_age_limit = np.int(np.ceil(np.max(bikes_df_clean['age'])/10)*10)\n",
    "\n",
    "bikes_df_clean['age_range'] = pd.cut(bikes_df_clean['age'], (range(min_age_limit,max_age_limit + 10, 10)), right=False).astype('str')\n",
    "\n",
    "bikes_df_clean = bikes_df_clean.drop(columns=['age'])\n",
    "\n",
    "bikes_df_clean.head()"
   ]
  },
  {
   "cell_type": "markdown",
   "metadata": {},
   "source": [
    "#### Test"
   ]
  },
  {
   "cell_type": "code",
   "execution_count": 46,
   "metadata": {},
   "outputs": [
    {
     "name": "stdout",
     "output_type": "stream",
     "text": [
      "<class 'pandas.core.frame.DataFrame'>\n",
      "Int64Index: 2353696 entries, 0 to 2495513\n",
      "Data columns (total 17 columns):\n",
      " #   Column                   Dtype         \n",
      "---  ------                   -----         \n",
      " 0   duration_sec             int64         \n",
      " 1   start_time               datetime64[ns]\n",
      " 2   end_time                 datetime64[ns]\n",
      " 3   start_station_id         float64       \n",
      " 4   start_station_name       object        \n",
      " 5   start_station_latitude   float64       \n",
      " 6   start_station_longitude  float64       \n",
      " 7   end_station_id           float64       \n",
      " 8   end_station_name         object        \n",
      " 9   end_station_latitude     float64       \n",
      " 10  end_station_longitude    float64       \n",
      " 11  bike_id                  int64         \n",
      " 12  user_type                object        \n",
      " 13  member_birth_year        float64       \n",
      " 14  member_gender            object        \n",
      " 15  bike_share_for_all_trip  object        \n",
      " 16  age_range                object        \n",
      "dtypes: datetime64[ns](2), float64(7), int64(2), object(6)\n",
      "memory usage: 323.2+ MB\n"
     ]
    }
   ],
   "source": [
    "bikes_df_clean.info()"
   ]
  },
  {
   "cell_type": "code",
   "execution_count": 47,
   "metadata": {},
   "outputs": [
    {
     "data": {
      "text/plain": [
       "[30, 40)     967219\n",
       "[20, 30)     731072\n",
       "[40, 50)     381178\n",
       "[50, 60)     197112\n",
       "[60, 70)      56110\n",
       "[10, 20)      10961\n",
       "[70, 80)       8273\n",
       "[80, 90)       1489\n",
       "[90, 100)       282\n",
       "Name: age_range, dtype: int64"
      ]
     },
     "execution_count": 47,
     "metadata": {},
     "output_type": "execute_result"
    }
   ],
   "source": [
    "bikes_df_clean.age_range.value_counts()"
   ]
  },
  {
   "cell_type": "markdown",
   "metadata": {},
   "source": [
    "**New column month_year**\n",
    "\n",
    "#### Define\n",
    "Create the new column from date start_time column"
   ]
  },
  {
   "cell_type": "code",
   "execution_count": 48,
   "metadata": {},
   "outputs": [],
   "source": [
    "# Thanks to https://stackoverflow.com/a/43896119\n",
    "bikes_df_clean['month_year'] = bikes_df_clean['start_time'].dt.to_period('M')"
   ]
  },
  {
   "cell_type": "markdown",
   "metadata": {},
   "source": [
    "#### Test"
   ]
  },
  {
   "cell_type": "code",
   "execution_count": 49,
   "metadata": {},
   "outputs": [
    {
     "name": "stdout",
     "output_type": "stream",
     "text": [
      "<class 'pandas.core.frame.DataFrame'>\n",
      "Int64Index: 2353696 entries, 0 to 2495513\n",
      "Data columns (total 18 columns):\n",
      " #   Column                   Dtype         \n",
      "---  ------                   -----         \n",
      " 0   duration_sec             int64         \n",
      " 1   start_time               datetime64[ns]\n",
      " 2   end_time                 datetime64[ns]\n",
      " 3   start_station_id         float64       \n",
      " 4   start_station_name       object        \n",
      " 5   start_station_latitude   float64       \n",
      " 6   start_station_longitude  float64       \n",
      " 7   end_station_id           float64       \n",
      " 8   end_station_name         object        \n",
      " 9   end_station_latitude     float64       \n",
      " 10  end_station_longitude    float64       \n",
      " 11  bike_id                  int64         \n",
      " 12  user_type                object        \n",
      " 13  member_birth_year        float64       \n",
      " 14  member_gender            object        \n",
      " 15  bike_share_for_all_trip  object        \n",
      " 16  age_range                object        \n",
      " 17  month_year               period[M]     \n",
      "dtypes: datetime64[ns](2), float64(7), int64(2), object(6), period[M](1)\n",
      "memory usage: 341.2+ MB\n"
     ]
    }
   ],
   "source": [
    "bikes_df_clean.info()"
   ]
  },
  {
   "cell_type": "code",
   "execution_count": 50,
   "metadata": {},
   "outputs": [
    {
     "data": {
      "text/plain": [
       "2019-03    244471\n",
       "2018-10    192736\n",
       "2018-07    186721\n",
       "2018-06    183262\n",
       "2019-01    182275\n",
       "2018-08    181150\n",
       "2018-09    176189\n",
       "2019-02    175076\n",
       "2018-05    167270\n",
       "2018-11    128991\n",
       "2018-12    126287\n",
       "2018-04    121677\n",
       "2018-03    102246\n",
       "2018-02     98498\n",
       "2018-01     86847\n",
       "Freq: M, Name: month_year, dtype: int64"
      ]
     },
     "execution_count": 50,
     "metadata": {},
     "output_type": "execute_result"
    }
   ],
   "source": [
    "bikes_df_clean.month_year.value_counts()"
   ]
  },
  {
   "cell_type": "markdown",
   "metadata": {},
   "source": [
    "**Remove unnecessary columns**\n",
    "\n",
    "#### Define\n",
    "Remove the columns: 'start_station_id', 'end_station_id', 'start_station_latitude', 'start_station_longitude', 'end_station_latitude', 'end_station_longitude'"
   ]
  },
  {
   "cell_type": "code",
   "execution_count": 51,
   "metadata": {},
   "outputs": [],
   "source": [
    "bikes_df_clean = bikes_df_clean.drop(columns=['start_station_id', 'end_station_id', 'start_station_latitude', 'start_station_longitude', 'end_station_latitude', 'end_station_longitude'], axis=1)"
   ]
  },
  {
   "cell_type": "markdown",
   "metadata": {},
   "source": [
    "#### Test"
   ]
  },
  {
   "cell_type": "code",
   "execution_count": 52,
   "metadata": {},
   "outputs": [
    {
     "name": "stdout",
     "output_type": "stream",
     "text": [
      "<class 'pandas.core.frame.DataFrame'>\n",
      "Int64Index: 2353696 entries, 0 to 2495513\n",
      "Data columns (total 12 columns):\n",
      " #   Column                   Dtype         \n",
      "---  ------                   -----         \n",
      " 0   duration_sec             int64         \n",
      " 1   start_time               datetime64[ns]\n",
      " 2   end_time                 datetime64[ns]\n",
      " 3   start_station_name       object        \n",
      " 4   end_station_name         object        \n",
      " 5   bike_id                  int64         \n",
      " 6   user_type                object        \n",
      " 7   member_birth_year        float64       \n",
      " 8   member_gender            object        \n",
      " 9   bike_share_for_all_trip  object        \n",
      " 10  age_range                object        \n",
      " 11  month_year               period[M]     \n",
      "dtypes: datetime64[ns](2), float64(1), int64(2), object(6), period[M](1)\n",
      "memory usage: 233.4+ MB\n"
     ]
    }
   ],
   "source": [
    "bikes_df_clean.info()"
   ]
  },
  {
   "cell_type": "markdown",
   "metadata": {},
   "source": [
    "# Saving the clean dataset"
   ]
  },
  {
   "cell_type": "code",
   "execution_count": 28,
   "metadata": {},
   "outputs": [],
   "source": [
    "bikes_df_clean.to_csv('ford-gobike-dataset/ford_gobike_cleaned.csv', index=False)"
   ]
  },
  {
   "cell_type": "code",
   "execution_count": 29,
   "metadata": {},
   "outputs": [
    {
     "data": {
      "text/html": [
       "<div>\n",
       "<style scoped>\n",
       "    .dataframe tbody tr th:only-of-type {\n",
       "        vertical-align: middle;\n",
       "    }\n",
       "\n",
       "    .dataframe tbody tr th {\n",
       "        vertical-align: top;\n",
       "    }\n",
       "\n",
       "    .dataframe thead th {\n",
       "        text-align: right;\n",
       "    }\n",
       "</style>\n",
       "<table border=\"1\" class=\"dataframe\">\n",
       "  <thead>\n",
       "    <tr style=\"text-align: right;\">\n",
       "      <th></th>\n",
       "      <th>duration_sec</th>\n",
       "      <th>start_time</th>\n",
       "      <th>end_time</th>\n",
       "      <th>start_station_name</th>\n",
       "      <th>end_station_name</th>\n",
       "      <th>bike_id</th>\n",
       "      <th>user_type</th>\n",
       "      <th>member_birth_year</th>\n",
       "      <th>member_gender</th>\n",
       "      <th>bike_share_for_all_trip</th>\n",
       "      <th>age_range</th>\n",
       "      <th>month_year</th>\n",
       "    </tr>\n",
       "  </thead>\n",
       "  <tbody>\n",
       "    <tr>\n",
       "      <th>0</th>\n",
       "      <td>75284</td>\n",
       "      <td>2018-01-31 22:52:35.239</td>\n",
       "      <td>2018-02-01 19:47:19.824</td>\n",
       "      <td>Mission Dolores Park</td>\n",
       "      <td>Webster St at O'Farrell St</td>\n",
       "      <td>2765</td>\n",
       "      <td>Subscriber</td>\n",
       "      <td>1986.0</td>\n",
       "      <td>Male</td>\n",
       "      <td>No</td>\n",
       "      <td>[30, 40)</td>\n",
       "      <td>2018-01</td>\n",
       "    </tr>\n",
       "    <tr>\n",
       "      <th>1</th>\n",
       "      <td>71576</td>\n",
       "      <td>2018-01-31 14:23:55.889</td>\n",
       "      <td>2018-02-01 10:16:52.116</td>\n",
       "      <td>Jackson St at 5th St</td>\n",
       "      <td>5th St at Virginia St</td>\n",
       "      <td>3039</td>\n",
       "      <td>Customer</td>\n",
       "      <td>1996.0</td>\n",
       "      <td>Male</td>\n",
       "      <td>No</td>\n",
       "      <td>[20, 30)</td>\n",
       "      <td>2018-01</td>\n",
       "    </tr>\n",
       "    <tr>\n",
       "      <th>2</th>\n",
       "      <td>39966</td>\n",
       "      <td>2018-01-31 19:52:24.667</td>\n",
       "      <td>2018-02-01 06:58:31.053</td>\n",
       "      <td>Laguna St at Hayes St</td>\n",
       "      <td>Post St at Kearny St</td>\n",
       "      <td>617</td>\n",
       "      <td>Subscriber</td>\n",
       "      <td>1991.0</td>\n",
       "      <td>Male</td>\n",
       "      <td>No</td>\n",
       "      <td>[20, 30)</td>\n",
       "      <td>2018-01</td>\n",
       "    </tr>\n",
       "    <tr>\n",
       "      <th>3</th>\n",
       "      <td>453</td>\n",
       "      <td>2018-01-31 23:53:53.632</td>\n",
       "      <td>2018-02-01 00:01:26.805</td>\n",
       "      <td>17th &amp; Folsom Street Park (17th St at Folsom St)</td>\n",
       "      <td>Valencia St at 24th St</td>\n",
       "      <td>3571</td>\n",
       "      <td>Subscriber</td>\n",
       "      <td>1988.0</td>\n",
       "      <td>Male</td>\n",
       "      <td>No</td>\n",
       "      <td>[30, 40)</td>\n",
       "      <td>2018-01</td>\n",
       "    </tr>\n",
       "    <tr>\n",
       "      <th>4</th>\n",
       "      <td>180</td>\n",
       "      <td>2018-01-31 23:52:09.903</td>\n",
       "      <td>2018-01-31 23:55:10.807</td>\n",
       "      <td>Berry St at 4th St</td>\n",
       "      <td>4th St at Mission Bay Blvd S</td>\n",
       "      <td>1403</td>\n",
       "      <td>Subscriber</td>\n",
       "      <td>1980.0</td>\n",
       "      <td>Male</td>\n",
       "      <td>No</td>\n",
       "      <td>[30, 40)</td>\n",
       "      <td>2018-01</td>\n",
       "    </tr>\n",
       "  </tbody>\n",
       "</table>\n",
       "</div>"
      ],
      "text/plain": [
       "   duration_sec               start_time                 end_time  \\\n",
       "0         75284  2018-01-31 22:52:35.239  2018-02-01 19:47:19.824   \n",
       "1         71576  2018-01-31 14:23:55.889  2018-02-01 10:16:52.116   \n",
       "2         39966  2018-01-31 19:52:24.667  2018-02-01 06:58:31.053   \n",
       "3           453  2018-01-31 23:53:53.632  2018-02-01 00:01:26.805   \n",
       "4           180  2018-01-31 23:52:09.903  2018-01-31 23:55:10.807   \n",
       "\n",
       "                                 start_station_name  \\\n",
       "0                              Mission Dolores Park   \n",
       "1                              Jackson St at 5th St   \n",
       "2                             Laguna St at Hayes St   \n",
       "3  17th & Folsom Street Park (17th St at Folsom St)   \n",
       "4                                Berry St at 4th St   \n",
       "\n",
       "               end_station_name  bike_id   user_type  member_birth_year  \\\n",
       "0    Webster St at O'Farrell St     2765  Subscriber             1986.0   \n",
       "1         5th St at Virginia St     3039    Customer             1996.0   \n",
       "2          Post St at Kearny St      617  Subscriber             1991.0   \n",
       "3        Valencia St at 24th St     3571  Subscriber             1988.0   \n",
       "4  4th St at Mission Bay Blvd S     1403  Subscriber             1980.0   \n",
       "\n",
       "  member_gender bike_share_for_all_trip age_range month_year  \n",
       "0          Male                      No  [30, 40)    2018-01  \n",
       "1          Male                      No  [20, 30)    2018-01  \n",
       "2          Male                      No  [20, 30)    2018-01  \n",
       "3          Male                      No  [30, 40)    2018-01  \n",
       "4          Male                      No  [30, 40)    2018-01  "
      ]
     },
     "execution_count": 29,
     "metadata": {},
     "output_type": "execute_result"
    }
   ],
   "source": [
    "master_df = pd.read_csv('ford-gobike-dataset/ford_gobike_cleaned.csv')\n",
    "master_df.head()"
   ]
  },
  {
   "cell_type": "code",
   "execution_count": 30,
   "metadata": {},
   "outputs": [
    {
     "data": {
      "text/plain": [
       "duration_sec                   0\n",
       "start_time                     0\n",
       "end_time                       0\n",
       "start_station_name         12103\n",
       "end_station_name           12103\n",
       "bike_id                        0\n",
       "user_type                      0\n",
       "member_birth_year              0\n",
       "member_gender                  0\n",
       "bike_share_for_all_trip        0\n",
       "age_range                      0\n",
       "month_year                     0\n",
       "dtype: int64"
      ]
     },
     "execution_count": 30,
     "metadata": {},
     "output_type": "execute_result"
    }
   ],
   "source": [
    "master_df.isnull().sum()"
   ]
  },
  {
   "cell_type": "markdown",
   "metadata": {},
   "source": [
    "<!-- ### What is the structure of your dataset?\n",
    "\n",
    "> Your answer here!\n",
    "\n",
    "### What is/are the main feature(s) of interest in your dataset?\n",
    "\n",
    "> Your answer here!\n",
    "\n",
    "### What features in the dataset do you think will help support your investigation into your feature(s) of interest?\n",
    "\n",
    "> Your answer here! -->"
   ]
  },
  {
   "cell_type": "markdown",
   "metadata": {},
   "source": [
    "## Univariate Exploration\n",
    "\n",
    "- ### **duration_sec, month_year**"
   ]
  },
  {
   "cell_type": "code",
   "execution_count": 53,
   "metadata": {},
   "outputs": [
    {
     "data": {
      "image/png": "[encoded data removed]",
      "text/plain": [
       "<Figure size 1800x576 with 2 Axes>"
      ]
     },
     "metadata": {
      "needs_background": "light"
     },
     "output_type": "display_data"
    }
   ],
   "source": [
    "#Thanks to https://gist.github.com/thriveth/8560036\n",
    "color_friendly = ['#377eb8', '#ff7f00', '#4daf4a',\n",
    "                  '#f781bf', '#a65628', '#984ea3',\n",
    "                  '#999999', '#e41a1c', '#dede00']\n",
    "\n",
    "classes = sorted(master_df.age_range.unique())\n",
    "age_order = pd.api.types.CategoricalDtype(categories=classes, ordered=True)\n",
    "master_df['age_range'] = master_df['age_range'].astype(age_order)\n",
    "\n",
    "\n",
    "bins_edge = np.arange(0, master_df.duration_sec.max()+100, 100)\n",
    "\n",
    "#base_color = sb.color_palette()[0]\n",
    "plt.figure(figsize=(25, 8))\n",
    "\n",
    "plt.subplot(1,2,1)\n",
    "plt.hist(data=master_df, x='duration_sec', bins=bins_edge, color='#377eb8')\n",
    "plt.xlim(0, 2000)\n",
    "plt.xlabel('Duration (sec)')\n",
    "plt.ylabel('Frequency')\n",
    "\n",
    "plt.subplot(1,2,2)\n",
    "sb.countplot(master_df['age_range'], color='#377eb8');"
   ]
  },
  {
   "cell_type": "markdown",
   "metadata": {},
   "source": [
    "- We can observe that this distribution is highly skewed to right. Most of the trips have the duration between 300 to 600 seconds, that is, 5 to 10 minutes.\n",
    "- Most of the users have the age between 30-40, followed by 20-30, 40-50 and so on."
   ]
  },
  {
   "cell_type": "markdown",
   "metadata": {},
   "source": [
    "- ### **user_type, member_gender**"
   ]
  },
  {
   "cell_type": "code",
   "execution_count": 32,
   "metadata": {},
   "outputs": [
    {
     "data": {
      "image/png": "[encoded data removed]",
      "text/plain": [
       "<Figure size 1440x576 with 2 Axes>"
      ]
     },
     "metadata": {
      "needs_background": "light"
     },
     "output_type": "display_data"
    }
   ],
   "source": [
    "plt.figure(figsize=(20, 8))\n",
    "\n",
    "plt.subplot(1,2,1)\n",
    "sb.countplot(master_df['user_type'], color='#377eb8')\n",
    "\n",
    "plt.subplot(1,2,2)\n",
    "sb.countplot(master_df['member_gender'], color='#377eb8');"
   ]
  },
  {
   "cell_type": "markdown",
   "metadata": {},
   "source": [
    "- There are much more subscriber than customer.\n",
    "- There are much more male than the others genders."
   ]
  },
  {
   "cell_type": "markdown",
   "metadata": {},
   "source": [
    "<!-- ### Discuss the distribution(s) of your variable(s) of interest. Were there any unusual points? Did you need to perform any transformations?\n",
    "\n",
    "- No, I didn't have to. I just specified the range of my x variable because that are some trips with a pretty high duration.\n",
    "\n",
    "### Of the features you investigated, were there any unusual distributions? Did you perform any operations on the data to tidy, adjust, or change the form of the data? If so, why did you do this?\n",
    "\n",
    "- I didn't perform any operation. -->"
   ]
  },
  {
   "cell_type": "markdown",
   "metadata": {},
   "source": [
    "## Bivariate Exploration\n",
    "\n",
    "- ### **member_gender x user_type**\n",
    "- ### **member_gender x duration_sec**"
   ]
  },
  {
   "cell_type": "code",
   "execution_count": 33,
   "metadata": {},
   "outputs": [
    {
     "data": {
      "image/png": "[encoded data removed]",
      "text/plain": [
       "<Figure size 1800x576 with 2 Axes>"
      ]
     },
     "metadata": {
      "needs_background": "light"
     },
     "output_type": "display_data"
    }
   ],
   "source": [
    "plt.figure(figsize=(25, 8))\n",
    "\n",
    "plt.subplot(1,2,1)\n",
    "sb.countplot(data=master_df, x='member_gender', hue='user_type', palette=['#377eb8', '#ff7f00'])\n",
    "\n",
    "plt.subplot(1,2,2)\n",
    "sb.barplot(data=master_df, x='member_gender', y='duration_sec', palette=['#377eb8', '#ff7f00']);"
   ]
  },
  {
   "cell_type": "markdown",
   "metadata": {},
   "source": [
    "- The number of subscriber is much more than that of the customer. The male subscriber shows a very huge proportion of the total sample.\n",
    "- We can observe that duration of the trips in each gender are very different. In average, the duration of the trips in the male gender are lower in terms of seconds (about 730 sec, that is, 14 minutes aproximattely). In contrast, female gender use the trips for more time (about 875 sec, that is, 15 minutes aproximattely). Finally, others genders are about (875-925 sec, that is, 15-16 minutes). "
   ]
  },
  {
   "cell_type": "markdown",
   "metadata": {},
   "source": [
    "- ### **month_year x duration_sec**"
   ]
  },
  {
   "cell_type": "code",
   "execution_count": 34,
   "metadata": {},
   "outputs": [
    {
     "data": {
      "image/png": "[encoded data removed]",
      "text/plain": [
       "<Figure size 1440x576 with 1 Axes>"
      ]
     },
     "metadata": {
      "needs_background": "light"
     },
     "output_type": "display_data"
    }
   ],
   "source": [
    "plt.figure(figsize=(20, 8))\n",
    "\n",
    "sb.pointplot(data=master_df, x='month_year', y='duration_sec', color='#377eb8')\n",
    "plt.xticks(rotation=90);"
   ]
  },
  {
   "cell_type": "markdown",
   "metadata": {},
   "source": [
    "- The months who have more duration in the trips are June, July (Highest), August and September.\n",
    "- The months who have lower duration is the trips is November, December, January and Frebruary (Lowest)."
   ]
  },
  {
   "cell_type": "markdown",
   "metadata": {},
   "source": [
    "- ### **duration_sec x start_station_name (Top 3)**"
   ]
  },
  {
   "cell_type": "code",
   "execution_count": 35,
   "metadata": {},
   "outputs": [
    {
     "data": {
      "image/png": "[encoded data removed]",
      "text/plain": [
       "<Figure size 936x576 with 1 Axes>"
      ]
     },
     "metadata": {
      "needs_background": "light"
     },
     "output_type": "display_data"
    }
   ],
   "source": [
    "# Top 3 stations\n",
    "top_3_stations = master_df['start_station_name'].value_counts().index[:3]\n",
    "master_df_top_3_stations = master_df.loc[master_df['start_station_name'].isin(top_3_stations)]\n",
    "\n",
    "plt.figure(figsize = [13, 8])\n",
    "\n",
    "sb.boxplot(data = master_df_top_3_stations, y = 'start_station_name', x = 'duration_sec', color = '#377eb8', orient=\"h\")\n",
    "plt.xlim(0, 2000);"
   ]
  },
  {
   "cell_type": "markdown",
   "metadata": {},
   "source": [
    "- Here we can observe the top 3 stations that users use to start a trip. We can observe the users who start in the  station San Francisco Ferry Building (Harry Bridges Plaza) have more duration in the trip, the median of duration is about 650 seconds, that is, about 11 minutes and the Q3 quartile is pretty higher. The other both stations have basically the same results, the median is about 530 seconds, that is, about 9 minutes."
   ]
  },
  {
   "cell_type": "markdown",
   "metadata": {},
   "source": [
    "<!-- ### Talk about some of the relationships you observed in this part of the investigation. How did the feature(s) of interest vary with other features in the dataset?\n",
    "\n",
    "> Your answer here!\n",
    "\n",
    "### Did you observe any interesting relationships between the other features (not the main feature(s) of interest)?\n",
    "\n",
    "> Your answer here! -->"
   ]
  },
  {
   "cell_type": "markdown",
   "metadata": {},
   "source": [
    "## Multivariate Exploration\n",
    "\n",
    "- ### **duration_sec X month_year X user_type**\n",
    "- ### **duration_sec X month_year X member_gender**"
   ]
  },
  {
   "cell_type": "code",
   "execution_count": 36,
   "metadata": {},
   "outputs": [
    {
     "data": {
      "image/png": "[encoded data removed]",
      "text/plain": [
       "<Figure size 1440x576 with 2 Axes>"
      ]
     },
     "metadata": {
      "needs_background": "light"
     },
     "output_type": "display_data"
    }
   ],
   "source": [
    "plt.figure(figsize=[20, 8])\n",
    "\n",
    "plt.subplot(1, 2, 1)\n",
    "sb.pointplot(data=master_df, x='month_year', y='duration_sec', hue='user_type', palette=['#377eb8', '#ff7f00'], errwidth=0)\n",
    "plt.xticks(rotation=90)\n",
    "\n",
    "plt.subplot(1, 2, 2)\n",
    "sb.pointplot(data=master_df, x='month_year', y='duration_sec', hue='member_gender', palette=['#377eb8', '#ff7f00', '#4daf4a'], errwidth=0)\n",
    "plt.xticks(rotation=90)\n",
    "plt.legend(title='Gender', loc=2);"
   ]
  },
  {
   "cell_type": "markdown",
   "metadata": {},
   "source": [
    "- Here we can observe the trend of each type of user. Customers have more duration in the trips compare to the subscribers, the difference of duration in each month is more than twice. We have more variance in duration in the customers than in the subscribers\n",
    "- In the gender analysis, the variance is more higher in all types of genders but in all of than we observe pratically the same trend for each month. "
   ]
  },
  {
   "cell_type": "markdown",
   "metadata": {},
   "source": [
    "<!-- ### Talk about some of the relationships you observed in this part of the investigation. Were there features that strengthened each other in terms of looking at your feature(s) of interest?\n",
    "\n",
    "> Your answer here!\n",
    "\n",
    "### Were there any interesting or surprising interactions between features?\n",
    "\n",
    "> Your answer here! -->"
   ]
  },
  {
   "cell_type": "markdown",
   "metadata": {},
   "source": [
    "<!-- > At the end of your report, make sure that you export the notebook as an\n",
    "html file from the `File > Download as... > HTML` menu. Make sure you keep\n",
    "track of where the exported file goes, so you can put it in the same folder\n",
    "as this notebook for project submission. Also, make sure you remove all of\n",
    "the quote-formatted guide notes like this one before you finish your report! -->"
   ]
  },
  {
   "cell_type": "markdown",
   "metadata": {},
   "source": [
    "- ### **Faceting duration_sec X age_range X member_gender X user_type**"
   ]
  },
  {
   "cell_type": "code",
   "execution_count": 55,
   "metadata": {},
   "outputs": [
    {
     "name": "stderr",
     "output_type": "stream",
     "text": [
      "/home/damhur/miniconda3/envs/ml/lib/python3.7/site-packages/seaborn/axisgrid.py:243: UserWarning: The `size` parameter has been renamed to `height`; please update your code.\n",
      "  warnings.warn(msg, UserWarning)\n",
      "/home/damhur/miniconda3/envs/ml/lib/python3.7/site-packages/seaborn/axisgrid.py:728: UserWarning: Using the pointplot function without specifying `order` is likely to produce an incorrect plot.\n",
      "  warnings.warn(warning)\n"
     ]
    },
    {
     "data": {
      "image/png": "[encoded data removed]",
      "text/plain": [
       "<Figure size 1296x864 with 6 Axes>"
      ]
     },
     "metadata": {
      "needs_background": "light"
     },
     "output_type": "display_data"
    }
   ],
   "source": [
    "g = sb.FacetGrid(data = master_df, col = 'member_gender', row = 'user_type', size = 6,\n",
    "                margin_titles = True)\n",
    "g.map(sb.pointplot, 'age_range', 'duration_sec')\n",
    "g.set_xticklabels(rotation=90);"
   ]
  },
  {
   "cell_type": "markdown",
   "metadata": {},
   "source": [
    "- We can observe that are more variance in the duration for each age range on the customer type in all genders than the subscriber type, except the gender 'other' in the subscriber type.\n",
    "- For customers, the age range of 70-80 in the male gender have more duration on the trips. For female gender, the age range of 10-20 and 70-80 have more duration. Finally, in the other gende we have the age range of 50-60 that have more duration trip."
   ]
  }
 ],
 "metadata": {
  "kernelspec": {
   "display_name": "Python 3",
   "language": "python",
   "name": "python3"
  },
  "language_info": {
   "codemirror_mode": {
    "name": "ipython",
    "version": 3
   },
   "file_extension": ".py",
   "mimetype": "text/x-python",
   "name": "python",
   "nbconvert_exporter": "python",
   "pygments_lexer": "ipython3",
   "version": "3.7.4"
  }
 },
 "nbformat": 4,
 "nbformat_minor": 4
}
